{
  "nbformat": 4,
  "nbformat_minor": 0,
  "metadata": {
    "colab": {
      "provenance": [],
      "toc_visible": true
    },
    "kernelspec": {
      "name": "python3",
      "display_name": "Python 3"
    },
    "language_info": {
      "name": "python"
    }
  },
  "cells": [
    {
      "cell_type": "code",
      "execution_count": null,
      "metadata": {
        "id": "F2AfwpEo60eZ"
      },
      "outputs": [],
      "source": [
        "# Mount Google Drive in the Colab environment\n",
        "from google.colab import drive\n",
        "drive.mount('/content/drive/')"
      ]
    },
    {
      "cell_type": "code",
      "source": [
        "# Specify the path to the directory on Google Drive where the audio file is located\n",
        "directory_path = \"/content/drive/My Drive/[DIRECTORY PATH]/\"\n",
        "\n",
        "# Define the name of the file without its extension\n",
        "file_name = \"[FILE NAME]\"\n",
        "\n",
        "# Video file extension\n",
        "ext = \".[EXTENSION]\"\n",
        "\n",
        "# Path to the video on Google Drive\n",
        "video_path = directory_path + file_name + ext\n",
        "\n",
        "# Output path for the audio file on Google Drive\n",
        "audio_output_path = directory_path + file_name + \".wav\""
      ],
      "metadata": {
        "id": "2cOS647l9GUD"
      },
      "execution_count": null,
      "outputs": []
    },
    {
      "cell_type": "code",
      "source": [
        "# Use ffmpeg to extract audio from the video\n",
        "!ffmpeg -i \"{video_path}\" -vn -acodec pcm_s16le -ar 44100 -ac 2 \"{audio_output_path}\""
      ],
      "metadata": {
        "id": "iRyfp9xV9Mi5"
      },
      "execution_count": null,
      "outputs": []
    }
  ]
}
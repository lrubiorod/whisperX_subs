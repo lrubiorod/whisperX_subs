{
  "nbformat": 4,
  "nbformat_minor": 0,
  "metadata": {
    "colab": {
      "provenance": []
    },
    "kernelspec": {
      "name": "python3",
      "display_name": "Python 3"
    },
    "language_info": {
      "name": "python"
    }
  },
  "cells": [
    {
      "cell_type": "code",
      "execution_count": null,
      "metadata": {
        "id": "bCz6GEtR-6Am"
      },
      "outputs": [],
      "source": [
        "!python3 -m pip install -U yt-dlp;"
      ]
    },
    {
      "cell_type": "code",
      "source": [
        "from google.colab import drive\n",
        "drive.mount('/content/drive/')"
      ],
      "metadata": {
        "id": "rVV_gmjK_xPh"
      },
      "execution_count": null,
      "outputs": []
    },
    {
      "cell_type": "code",
      "source": [
        "# URL of the desired YouTube video\n",
        "youtube_url = \"[YOUTUBE URL]\"\n",
        "\n",
        "# Specify the path to the directory on Google Drive where the audio file is located\n",
        "directory_path = \"/content/drive/My Drive/[DIRECTORY PATH]/\"\n",
        "\n",
        "# Define the name of the file without its extension\n",
        "file_name = \"[FILE NAME]\"\n",
        "\n",
        "# Construct the output path for the file, allowing for a dynamic file extension\n",
        "output_path = directory_path + file_name + \".%(ext)s\"\n"
      ],
      "metadata": {
        "id": "VxUxQRLM_IjS"
      },
      "execution_count": 1,
      "outputs": []
    },
    {
      "cell_type": "code",
      "source": [
        "!python -m yt_dlp --output \"{output_path}\" --format mp4 $youtube_url && python -m yt_dlp --output \"{output_path}\" --extract-audio --audio-format wav $youtube_url"
      ],
      "metadata": {
        "id": "vuX6o6Pq_Ypi"
      },
      "execution_count": null,
      "outputs": []
    }
  ]
}